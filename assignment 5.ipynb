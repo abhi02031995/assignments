{
 "cells": [
  {
   "cell_type": "code",
   "execution_count": null,
   "id": "7e6740e5",
   "metadata": {},
   "outputs": [],
   "source": [
    "1. What does an empty dictionary's code look like?\n",
    "Ans:{}"
   ]
  },
  {
   "cell_type": "code",
   "execution_count": null,
   "id": "62e5bf63",
   "metadata": {},
   "outputs": [],
   "source": [
    "2. What is the value of a dictionary value with the key 'foo'; and the value 42?\n",
    "Ans:{'foo': 42}\n",
    "    "
   ]
  },
  {
   "cell_type": "code",
   "execution_count": null,
   "id": "a6c149b1",
   "metadata": {},
   "outputs": [],
   "source": [
    "3. What is the most significant distinction between a dictionary and a list?\n",
    "Ans:? A list is an ordered sequence of objects, whereas dictionaries are unordered sets.\n",
    "    However, the main difference is that items in dictionaries are accessed via keys and not via their position."
   ]
  },
  {
   "cell_type": "code",
   "execution_count": null,
   "id": "c127140e",
   "metadata": {},
   "outputs": [],
   "source": [
    "4. What happens if you try to access spam['foo'] if spam is {'bar';: 100}?\n",
    "Ans:\n",
    "    Keyerror will occure"
   ]
  },
  {
   "cell_type": "code",
   "execution_count": 4,
   "id": "b4bb6920",
   "metadata": {},
   "outputs": [],
   "source": [
    "spam={'bar':100}"
   ]
  },
  {
   "cell_type": "code",
   "execution_count": null,
   "id": "000209fe",
   "metadata": {},
   "outputs": [],
   "source": [
    "5. If a dictionary is stored in spam, what is the difference between the expressions 'cat'; in spam and\n",
    "'cat'; in spam.keys()?\n",
    "Ans:\n",
    "    There is no difference."
   ]
  },
  {
   "cell_type": "code",
   "execution_count": null,
   "id": "6a9020b7",
   "metadata": {},
   "outputs": [],
   "source": [
    "6. If a dictionary is stored in spam, what is the difference between the expressions 'cat'; in spam and\n",
    "'39'; in spam.values()?\n",
    "Ans:\n",
    "    'cat' in spam checks whether there is a 'cat' key in the dictionary, while 'cat' in spam. values() checks whether there is a value 'cat' for one of the keys in spam ."
   ]
  },
  {
   "cell_type": "code",
   "execution_count": null,
   "id": "ed4c5fef",
   "metadata": {},
   "outputs": [],
   "source": [
    "7. What is a shortcut for the following code?\n",
    "if 'color' not in spam:\n",
    "spam['color'] = 'black'\n",
    "Ans:\n",
    "    spam.values['black']"
   ]
  },
  {
   "cell_type": "code",
   "execution_count": null,
   "id": "2863f0d6",
   "metadata": {},
   "outputs": [],
   "source": [
    "8. How do you \"pretty print\" dictionary values using which module and function?\n",
    "Ans:\n",
    "    Within the pprint module there is a function with the same name pprint() , which is the function used to pretty-print the given string or object."
   ]
  }
 ],
 "metadata": {
  "kernelspec": {
   "display_name": "Python 3 (ipykernel)",
   "language": "python",
   "name": "python3"
  },
  "language_info": {
   "codemirror_mode": {
    "name": "ipython",
    "version": 3
   },
   "file_extension": ".py",
   "mimetype": "text/x-python",
   "name": "python",
   "nbconvert_exporter": "python",
   "pygments_lexer": "ipython3",
   "version": "3.9.7"
  }
 },
 "nbformat": 4,
 "nbformat_minor": 5
}
