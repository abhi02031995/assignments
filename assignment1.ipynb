{
 "cells": [
  {
   "cell_type": "code",
   "execution_count": null,
   "id": "19328874",
   "metadata": {},
   "outputs": [],
   "source": [
    "1. In the below elements which of them are values or an expression? eg:- values can be\n",
    "integer or string and expressions will be mathematical operators.\n",
    "*\n",
    "hello\n",
    "-87.8\n",
    "-\n",
    "/\n",
    "+\n",
    "6\n",
    "Ans:values=hello,-87.8,6\n",
    "    expression=*,-,/,+"
   ]
  },
  {
   "cell_type": "code",
   "execution_count": null,
   "id": "1c46dccc",
   "metadata": {},
   "outputs": [],
   "source": [
    "2. What is the difference between string and variable?\n",
    "Ans=A Variable is a store of information, and a String is a type of information you would store in a Variable.\n",
    "    A String is usually words, enclosed with \"\" Eg String x =\"Welcome to SoloLearn\" X is the Variable, and we declared it as a String, use the single = to assign the text to it."
   ]
  },
  {
   "cell_type": "code",
   "execution_count": null,
   "id": "135d02aa",
   "metadata": {},
   "outputs": [],
   "source": [
    "3. Describe three different data types.\n",
    "Ans=integer:Data type in which a whole no is store\n",
    "    Flot:a float is a data type composed of a number that is not an integer, because it includes a fraction represented in decimal format.\n",
    "    String:A string data type is traditionally a sequence of characters, either as a literal constant or as some kind of variable."
   ]
  },
  {
   "cell_type": "code",
   "execution_count": null,
   "id": "eb035cee",
   "metadata": {},
   "outputs": [],
   "source": [
    "4. What is an expression made up of? What do all expressions do?\n",
    "Ans:\n",
    "    An expression is a construct made up of variables, operators, and method invocations, which are constructed according to the syntax of the language, that evaluates to a single value.\n"
   ]
  },
  {
   "cell_type": "code",
   "execution_count": null,
   "id": "16ea307a",
   "metadata": {},
   "outputs": [],
   "source": [
    "5. This assignment statements, like spam = 10. What is the difference between an\n",
    "expression and a statement?\n",
    " Ans:\n",
    "    Expression is made up of values, containers, and mathematical operators (operands) and the statement is just like a command that a python interpreter executes like print."
   ]
  },
  {
   "cell_type": "code",
   "execution_count": null,
   "id": "126986d0",
   "metadata": {},
   "outputs": [],
   "source": [
    "6. After running the following code, what does the variable bacon contain?\n",
    "bacon = 22\n",
    "bacon + 1\n",
    "Ans:23"
   ]
  },
  {
   "cell_type": "code",
   "execution_count": null,
   "id": "562ae0a6",
   "metadata": {},
   "outputs": [],
   "source": [
    "7. What should the values of the following two terms be?\n"
   ]
  },
  {
   "cell_type": "code",
   "execution_count": null,
   "id": "21b69d5c",
   "metadata": {},
   "outputs": [],
   "source": [
    "8. Why is eggs a valid variable name while 100 is invalid?\n",
    "Ans:Variable name cannot brgi with number"
   ]
  },
  {
   "cell_type": "code",
   "execution_count": null,
   "id": "e817f2f8",
   "metadata": {},
   "outputs": [],
   "source": []
  }
 ],
 "metadata": {
  "kernelspec": {
   "display_name": "Python 3 (ipykernel)",
   "language": "python",
   "name": "python3"
  },
  "language_info": {
   "codemirror_mode": {
    "name": "ipython",
    "version": 3
   },
   "file_extension": ".py",
   "mimetype": "text/x-python",
   "name": "python",
   "nbconvert_exporter": "python",
   "pygments_lexer": "ipython3",
   "version": "3.9.7"
  }
 },
 "nbformat": 4,
 "nbformat_minor": 5
}
