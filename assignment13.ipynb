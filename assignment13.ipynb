{
 "cells": [
  {
   "cell_type": "code",
   "execution_count": null,
   "id": "c1394d5d",
   "metadata": {},
   "outputs": [],
   "source": [
    "1. What advantages do Excel spreadsheets have over CSV spreadsheets?\n",
    "Ans:\n",
    "    Excel is more superior when compared with the CSV file format; thus, CSV consumes less amount of file size when the user is importing data; it is a much faster format compared to excel.\n",
    "    CSV does not manipulate data and stores it as-is. Excel also allows the user the add-in feature."
   ]
  },
  {
   "cell_type": "code",
   "execution_count": null,
   "id": "b46dd060",
   "metadata": {},
   "outputs": [],
   "source": [
    "2.What do you pass to csv.reader() and csv.writer() to create reader and writer objects?\n",
    "Ans:\n",
    "    csv.writer() function is used to create a writer object.\n",
    "    csv.reader() function is used to create a reader object. "
   ]
  },
  {
   "cell_type": "code",
   "execution_count": null,
   "id": "31c2a893",
   "metadata": {},
   "outputs": [],
   "source": [
    "3. What modes do File objects for reader and writer objects need to be opened in?\n",
    "Ans:\n",
    "    In order to open a file for reading or writing purposes, we must use the built-in open() function."
   ]
  },
  {
   "cell_type": "code",
   "execution_count": null,
   "id": "dc3d8c60",
   "metadata": {},
   "outputs": [],
   "source": [
    "4. What method takes a list argument and writes it to a CSV file?\n",
    "Ans:\n",
    "    writerows()\n",
    "    This function takes a list of iterables as parameter and writes each item as a comma separated line of items in the file."
   ]
  },
  {
   "cell_type": "code",
   "execution_count": null,
   "id": "33c49eec",
   "metadata": {},
   "outputs": [],
   "source": [
    "5. What do the keyword arguments delimiter and line terminator do?\n",
    "Ans:\n",
    "    This changes the delimiter and line terminator characters in your file. The delimiter is the character that appears between cells on a row.\n",
    "     The line terminator is the character that comes at the end of a row."
   ]
  },
  {
   "cell_type": "code",
   "execution_count": null,
   "id": "196b3770",
   "metadata": {},
   "outputs": [],
   "source": [
    "6. What function takes a string of JSON data and returns a Python data structure?\n",
    "Ans:\n",
    "    loads() method return Python data structure of JSON string or data."
   ]
  },
  {
   "cell_type": "code",
   "execution_count": null,
   "id": "cd02f51c",
   "metadata": {},
   "outputs": [],
   "source": [
    "7. What function takes a Python data structure and returns a string of JSON data?\n",
    "Ans:\n",
    "    json.loads()  return Python data structure of JSON string or data."
   ]
  },
  {
   "cell_type": "code",
   "execution_count": null,
   "id": "c4369da9",
   "metadata": {},
   "outputs": [],
   "source": []
  }
 ],
 "metadata": {
  "kernelspec": {
   "display_name": "Python 3 (ipykernel)",
   "language": "python",
   "name": "python3"
  },
  "language_info": {
   "codemirror_mode": {
    "name": "ipython",
    "version": 3
   },
   "file_extension": ".py",
   "mimetype": "text/x-python",
   "name": "python",
   "nbconvert_exporter": "python",
   "pygments_lexer": "ipython3",
   "version": "3.9.7"
  }
 },
 "nbformat": 4,
 "nbformat_minor": 5
}
