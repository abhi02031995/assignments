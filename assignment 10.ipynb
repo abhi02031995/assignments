{
 "cells": [
  {
   "cell_type": "code",
   "execution_count": null,
   "id": "1ed5dbef",
   "metadata": {},
   "outputs": [],
   "source": [
    "1. How do you distinguish between shutil.copy() and shutil.copytree()?\n",
    "Ans:\n",
    "    While shutil. copy() will copy a single file, shutil. copytree() will copy an entire folder and every folder and file contained in it."
   ]
  },
  {
   "cell_type": "code",
   "execution_count": null,
   "id": "f2829312",
   "metadata": {},
   "outputs": [],
   "source": [
    "2. What function is used to rename files?\n",
    "Ans:\n",
    "    rename() method in Python is used to rename a file or directory."
   ]
  },
  {
   "cell_type": "code",
   "execution_count": null,
   "id": "75a77852",
   "metadata": {},
   "outputs": [],
   "source": [
    "3. What is the difference between the delete functions in the send2trash and shutil modules?\n",
    "Ans:\n",
    "    The send2trash functions will move a file or folder to the recycle bin, while shutil functions will permanently delete files and folders."
   ]
  },
  {
   "cell_type": "code",
   "execution_count": null,
   "id": "cb172efd",
   "metadata": {},
   "outputs": [],
   "source": [
    "4.ZipFile objects have a close() method just like File objects’ close() method. What ZipFile method is\n",
    "equivalent to File objects’ open() method?\n",
    "Ans:\n",
    "    The zipfile. ZipFile() function is equivalent to the open() function; the first argument is the filename, and the second argument is the mode to open the ZIP file in (read, write, or append)."
   ]
  },
  {
   "cell_type": "code",
   "execution_count": null,
   "id": "4fad78d0",
   "metadata": {},
   "outputs": [],
   "source": [
    "5. Create a programme that searches a folder tree for files with a certain file extension (such as .pdf\n",
    "or .jpg). Copy these files from whatever location they are in to a new folder.\n",
    "Ans:\n",
    "    "
   ]
  },
  {
   "cell_type": "code",
   "execution_count": 1,
   "id": "15358e22",
   "metadata": {},
   "outputs": [
    {
     "name": "stdout",
     "output_type": "stream",
     "text": [
      "Looking in for files with extensions of .join(extenesions)\n"
     ]
    }
   ],
   "source": [
    "import os,shutil\n",
    "def selectiveCopy(folder,extenstions,destFolder):\n",
    "    folder = os.path.abspath(folder)\n",
    "    destFolder = os.path.abspath(destFolder)\n",
    "    print('Looking in' , 'for files with extensions of','.join(extenesions)')\n",
    "    for foldername, subfolders, filenames in os.walk(folder):\n",
    "        for filename in filenames:\n",
    "            name,extenstion = os,path.splitext(filename)\n",
    "            if extenstion in extenstions:\n",
    "                fileAbsPath = foldername + os.path.sep + filename\n",
    "                print('coping', fileAbsPath,'to',destFolder)\n",
    "                \n",
    "extenstions=['.php','.py']\n",
    "folder= 'randomfolder'\n",
    "destFolder = 'selectiveFolder'\n",
    "selectiveCopy(folder,extenstions,destFolder)"
   ]
  },
  {
   "cell_type": "code",
   "execution_count": null,
   "id": "3d73564c",
   "metadata": {},
   "outputs": [],
   "source": []
  }
 ],
 "metadata": {
  "kernelspec": {
   "display_name": "Python 3 (ipykernel)",
   "language": "python",
   "name": "python3"
  },
  "language_info": {
   "codemirror_mode": {
    "name": "ipython",
    "version": 3
   },
   "file_extension": ".py",
   "mimetype": "text/x-python",
   "name": "python",
   "nbconvert_exporter": "python",
   "pygments_lexer": "ipython3",
   "version": "3.9.7"
  }
 },
 "nbformat": 4,
 "nbformat_minor": 5
}
