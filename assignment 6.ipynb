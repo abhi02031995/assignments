{
 "cells": [
  {
   "cell_type": "code",
   "execution_count": null,
   "id": "8edb9fed",
   "metadata": {},
   "outputs": [],
   "source": [
    "1. What are escape characters, and how do you use them?\n",
    "Ans:\n",
    "An escape character is a backslash \\ followed by the character you want to insert."
   ]
  },
  {
   "cell_type": "code",
   "execution_count": null,
   "id": "607d5ad5",
   "metadata": {},
   "outputs": [],
   "source": [
    "2. What do the escape characters n and t stand for?\n",
    "Ans:\n",
    "     \"\\t\" is a tab, \"\\n\" is a newline."
   ]
  },
  {
   "cell_type": "code",
   "execution_count": null,
   "id": "3f281886",
   "metadata": {},
   "outputs": [],
   "source": [
    "3. What is the way to include backslash characters in a string?\n",
    "Ans:\n",
    "    Use the syntax \"\\\\\" within the string literal to represent a single backslash."
   ]
  },
  {
   "cell_type": "code",
   "execution_count": null,
   "id": "cfde5496",
   "metadata": {},
   "outputs": [],
   "source": [
    "4. The string \"Howl's Moving Castle\" is a correct value. Why isn't the single quote character in the word Howl's not escaped a problem?\n",
    "Ans:\n",
    "    The single quote in Howl's is fine because you've used double quotes to mark the beginning and end of the string."
   ]
  },
  {
   "cell_type": "code",
   "execution_count": null,
   "id": "99bd5344",
   "metadata": {},
   "outputs": [],
   "source": [
    "5. How do you write a string of newlines if you don't want to use the n character?\n",
    "Ans:\n",
    "    In order to print without newline in Python, you need to add an extra argument to \n",
    "    your print function that will tell the program that you don't want your next string to be on a new line"
   ]
  },
  {
   "cell_type": "code",
   "execution_count": null,
   "id": "4ea08852",
   "metadata": {},
   "outputs": [],
   "source": [
    "6. What are the values of the given expressions?\n",
    "Ans:\n",
    "'Hello, world!'[1]    :'e'\n",
    "'Hello, world!'[0:5]  :'Hello'\n",
    "'Hello, world!'[:5]   :'Hello'\n",
    "'Hello, world!'[3:]   :'lo world'\n"
   ]
  },
  {
   "cell_type": "code",
   "execution_count": 2,
   "id": "20b10684",
   "metadata": {},
   "outputs": [
    {
     "data": {
      "text/plain": [
       "'hello'"
      ]
     },
     "execution_count": 2,
     "metadata": {},
     "output_type": "execute_result"
    }
   ],
   "source": [
    "##7. What are the values of the following expressions?\n",
    "Ans:\n",
    "'Hello'.upper()          :'HELLO'\n",
    "'Hello'.upper().isupper():'True'\n",
    "'Hello'.upper().lower()  :'hello'"
   ]
  },
  {
   "cell_type": "code",
   "execution_count": null,
   "id": "d7382384",
   "metadata": {},
   "outputs": [],
   "source": [
    "##8. What are the values of the following expressions?\n",
    "ANS:\n",
    "'Remember, remember, the fifth of July.'.split() :['Remember,', 'remember,', 'the', 'fifth', 'of', 'July.']\n",
    "'-'.join('There can only one.'.split())          :'There-can-only-one.'"
   ]
  },
  {
   "cell_type": "code",
   "execution_count": null,
   "id": "60dc8463",
   "metadata": {},
   "outputs": [],
   "source": [
    "9. What are the methods for right-justifying, left-justifying, and centering a string?\n",
    "Ans:\n",
    "    the methods for right-justifying, left-justifying, and centering a string are rjust(),ljust() and center()."
   ]
  },
  {
   "cell_type": "code",
   "execution_count": null,
   "id": "d7735147",
   "metadata": {},
   "outputs": [],
   "source": [
    "10. What is the best way to remove whitespace characters from the start or end?\n",
    "Ans:\n",
    "    String. Trim() removes all whitespace from the beginning and end of a string."
   ]
  }
 ],
 "metadata": {
  "kernelspec": {
   "display_name": "Python 3 (ipykernel)",
   "language": "python",
   "name": "python3"
  },
  "language_info": {
   "codemirror_mode": {
    "name": "ipython",
    "version": 3
   },
   "file_extension": ".py",
   "mimetype": "text/x-python",
   "name": "python",
   "nbconvert_exporter": "python",
   "pygments_lexer": "ipython3",
   "version": "3.9.7"
  }
 },
 "nbformat": 4,
 "nbformat_minor": 5
}
