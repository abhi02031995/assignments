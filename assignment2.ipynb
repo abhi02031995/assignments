{
 "cells": [
  {
   "cell_type": "code",
   "execution_count": null,
   "id": "053edfbe",
   "metadata": {},
   "outputs": [],
   "source": [
    "1.What are the two values of the Boolean data type? How do you write them?\n",
    "Ans:Thier are two boolean data type True And False "
   ]
  },
  {
   "cell_type": "code",
   "execution_count": null,
   "id": "c014726e",
   "metadata": {},
   "outputs": [],
   "source": [
    "2. What are the three different types of Boolean operators?\n",
    "Ans:\n",
    "    There are three basic Boolean search commands: AND, OR and NOT."
   ]
  },
  {
   "cell_type": "code",
   "execution_count": null,
   "id": "a390cac8",
   "metadata": {},
   "outputs": [],
   "source": [
    "3. What are the values of the following expressions?\n",
    "(5 >4) and (3 == 5)\n",
    "Ans=False\n",
    "not (5 > 4)\n",
    "Ans=False\n",
    "(5 > 4) or (3 == 5)\n",
    "Ans=True\n",
    "not ((5 > 4) or (3 == 5))\n",
    "Ans=False\n",
    "(True and True) and (True == False)\n",
    "Ans=False\n",
    "(not False) or (not True)\n",
    "Ans:True\n",
    "    "
   ]
  },
  {
   "cell_type": "code",
   "execution_count": null,
   "id": "8006ce20",
   "metadata": {},
   "outputs": [],
   "source": [
    "4. What are the six comparison operators?\n",
    "Ans:\n",
    "   less than (<) ,greater than (>) ,less than or equal to (<=) ,greater than or equal to (>=),equa;l to (==) ,not equal to (!=) are the six comparision operators"
   ]
  },
  {
   "cell_type": "code",
   "execution_count": null,
   "id": "42061aae",
   "metadata": {},
   "outputs": [],
   "source": [
    "How do you tell the difference between the equal to and assignment operators?Describe a\n",
    "condition and when you would use one\n",
    "Ans:\n",
    "    The “=” is an assignment operator is used to assign the value on the right to the variable on the left. The '==' operator checks whether the two given operands are equal or not. If so, it returns true. Otherwise it returns false"
   ]
  },
  {
   "cell_type": "code",
   "execution_count": 9,
   "id": "323fea6b",
   "metadata": {},
   "outputs": [
    {
     "name": "stdout",
     "output_type": "stream",
     "text": [
      "ham\n",
      "spam\n",
      "spam\n"
     ]
    }
   ],
   "source": [
    "##7. Identify the three blocks in this code:\n",
    "spam = 0\n",
    "if spam==10:\n",
    "    print(\"eggs\")\n",
    "    if spam > 5:\n",
    "        print(\"beacon\")\n",
    "else:\n",
    "    print('ham')\n",
    "    print('spam')\n",
    "    print('spam')"
   ]
  },
  {
   "cell_type": "code",
   "execution_count": 25,
   "id": "61296916",
   "metadata": {},
   "outputs": [
    {
     "name": "stdout",
     "output_type": "stream",
     "text": [
      "Hello\n",
      "Greetings!\n"
     ]
    }
   ],
   "source": [
    "##8. Write code that prints Hello if 1 is stored in spam, prints Howdy if 2 is stored in spam, and prints.Greetings! if anything else is stored in spam.\n",
    "spam =1\n",
    "if spam==1:\n",
    "    print(\"Hello\")\n",
    "if spam ==2:\n",
    "    print(\"Howdy\")\n",
    "else:\n",
    "    print('Greetings!')"
   ]
  },
  {
   "cell_type": "code",
   "execution_count": null,
   "id": "b9650a08",
   "metadata": {},
   "outputs": [],
   "source": [
    "9.If your programme is stuck in an endless loop, what keys you’ll press?\n",
    "Ans:\n",
    "    i button is used to interupt the kernel"
   ]
  },
  {
   "cell_type": "code",
   "execution_count": null,
   "id": "b89be712",
   "metadata": {},
   "outputs": [],
   "source": [
    "10. How can you tell the difference between break and continue?\n",
    "Ans:\n",
    "    The difference =between break and continue is the break ends the innerclose loop to futher itration and the continue is used to continuation of the loop to futher itaration to happen."
   ]
  },
  {
   "cell_type": "code",
   "execution_count": null,
   "id": "307ae681",
   "metadata": {},
   "outputs": [],
   "source": [
    "11. In a for loop, what is the difference between range(10), range(0, 10), and range(0, 10, 1)?\n",
    "Ans:The range(10) function returns a sequence of numbers, starting from 0 by default, and increments by 1 (by default), and stops before a 10.\n",
    "    while the range(0,10) function returns a sequence of numbers, starting from 0 enter by manully at first place, and increments by 1 (by default), and stops before a 10.\n",
    "    and The range(0,10,1) function returns a sequence of numbers, starting from 0 , and increments by 1 , and stops before a specified number."
   ]
  },
  {
   "cell_type": "code",
   "execution_count": null,
   "id": "2ed7eda8",
   "metadata": {},
   "outputs": [],
   "source": [
    "12. Write a short program that prints the numbers 1 to 10 using a for loop. Then write an equivalent\n",
    "program that prints the numbers 1 to 10 using a while loop."
   ]
  },
  {
   "cell_type": "code",
   "execution_count": 28,
   "id": "ebf9dd74",
   "metadata": {},
   "outputs": [
    {
     "name": "stdout",
     "output_type": "stream",
     "text": [
      "1\n",
      "2\n",
      "3\n",
      "4\n",
      "5\n",
      "6\n",
      "7\n",
      "8\n",
      "9\n",
      "10\n"
     ]
    }
   ],
   "source": [
    "for i in range(1,11):\n",
    "    print (i)"
   ]
  },
  {
   "cell_type": "code",
   "execution_count": 35,
   "id": "e339424d",
   "metadata": {},
   "outputs": [
    {
     "name": "stdout",
     "output_type": "stream",
     "text": [
      "1 2 3 4 5 6 7 8 9 10 "
     ]
    }
   ],
   "source": [
    "n=1\n",
    "while n<=10:\n",
    "    print(n, end=' ')\n",
    "    n= n+1"
   ]
  },
  {
   "cell_type": "code",
   "execution_count": null,
   "id": "631bbf77",
   "metadata": {},
   "outputs": [],
   "source": [
    "13. If you had a function named bacon() inside a module named spam, how would you call it after\n",
    "importing spam?\n",
    "Ans:The function can be called by spam.bacon()"
   ]
  }
 ],
 "metadata": {
  "kernelspec": {
   "display_name": "Python 3 (ipykernel)",
   "language": "python",
   "name": "python3"
  },
  "language_info": {
   "codemirror_mode": {
    "name": "ipython",
    "version": 3
   },
   "file_extension": ".py",
   "mimetype": "text/x-python",
   "name": "python",
   "nbconvert_exporter": "python",
   "pygments_lexer": "ipython3",
   "version": "3.9.7"
  }
 },
 "nbformat": 4,
 "nbformat_minor": 5
}
