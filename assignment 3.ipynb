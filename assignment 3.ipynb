{
 "cells": [
  {
   "cell_type": "code",
   "execution_count": null,
   "id": "4783838a",
   "metadata": {},
   "outputs": [],
   "source": [
    "1. Why are functions advantageous to have in your programs?\n",
    "Ans:\n",
    "    Function reduce the duplicate code hence reduces the complexcity of code.\n",
    "    Which reduces time."
   ]
  },
  {
   "cell_type": "code",
   "execution_count": null,
   "id": "e9d0c723",
   "metadata": {},
   "outputs": [],
   "source": [
    "2. When does the code in a function run: when it specified or when it called?\n",
    "    Ans:\n",
    "        When its called"
   ]
  },
  {
   "cell_type": "code",
   "execution_count": null,
   "id": "7abe5474",
   "metadata": {},
   "outputs": [],
   "source": [
    "3. What statement creates a function?\n",
    "Ans: function is created by def keyword"
   ]
  },
  {
   "cell_type": "code",
   "execution_count": null,
   "id": "6cd523eb",
   "metadata": {},
   "outputs": [],
   "source": [
    "4. What is the difference between a function and a function call?\n",
    "Ans:\n",
    "    A function is a piece of code which enhanced the reusability and modularity of your program.\n",
    "    It means that piece of code need not be written again.\n",
    "    A function call means invoking or calling that function.\n",
    "    Unless a function is called there is no use of that function."
   ]
  },
  {
   "cell_type": "code",
   "execution_count": null,
   "id": "516ee604",
   "metadata": {},
   "outputs": [],
   "source": [
    "5. How many global scopes are there in a Python program? How many local scopes?\n",
    "Ans:There is only one global Python scope per program execution.\n",
    "    "
   ]
  },
  {
   "cell_type": "code",
   "execution_count": null,
   "id": "48b82094",
   "metadata": {},
   "outputs": [],
   "source": [
    "6. What happens to variables in a local scope when the function call returns?\n",
    "Ans:\n",
    "    A local variable retains its value until the next time the function is called A local variable becomes undefined after the function call returns.\n",
    "    The local variable can be used outside the function any time after the function call returns."
   ]
  },
  {
   "cell_type": "code",
   "execution_count": null,
   "id": "47b5cf40",
   "metadata": {},
   "outputs": [],
   "source": [
    "7. What is the concept of a return value? Is it possible to have a return value in an expression?\n",
    "Ans:A return is a value that a function returns to the calling script or function when it completes its task.\n",
    "    Yes it is possible to have a return value in an expression."
   ]
  },
  {
   "cell_type": "code",
   "execution_count": null,
   "id": "1f71f3c2",
   "metadata": {},
   "outputs": [],
   "source": [
    "8. If a function does not have a return statement, what is the return value of a call to that function?\n",
    "Ans:\n",
    "A function without an explicit return statement returns None."
   ]
  },
  {
   "cell_type": "code",
   "execution_count": null,
   "id": "95469ac0",
   "metadata": {},
   "outputs": [],
   "source": [
    "9. How do you make a function variable refer to the global variable?\n",
    "Ans:\n",
    "    Use of “global+keyword to modify global variable inside a function"
   ]
  },
  {
   "cell_type": "code",
   "execution_count": null,
   "id": "fde22c60",
   "metadata": {},
   "outputs": [],
   "source": [
    "10. What is the data type of None?\n",
    "Ans:\n",
    "    None is a data type of its own (NoneType) and only None can be None."
   ]
  },
  {
   "cell_type": "code",
   "execution_count": null,
   "id": "356d7876",
   "metadata": {},
   "outputs": [],
   "source": [
    "11. What does the sentence import areallyourpetsnamederic do?\n",
    "Ans:\n",
    "    imports a module named areallyourpetsnamederic"
   ]
  },
  {
   "cell_type": "code",
   "execution_count": null,
   "id": "1f84cb23",
   "metadata": {},
   "outputs": [],
   "source": [
    "12. If you had a bacon() feature in a spam module, what would you call it after importing spam?\n",
    "Ans:\n",
    "    spam.bean()"
   ]
  },
  {
   "cell_type": "code",
   "execution_count": null,
   "id": "56f16a77",
   "metadata": {},
   "outputs": [],
   "source": [
    "13. What can you do to save a programme from crashing if it encounters an error?\n",
    "Ans:Use try and except method.\n",
    "    "
   ]
  },
  {
   "cell_type": "code",
   "execution_count": null,
   "id": "da64ee74",
   "metadata": {},
   "outputs": [],
   "source": [
    "14. What is the purpose of the try clause? What is the purpose of the except clause?\n",
    "Ans:\n",
    "    The try block lets you test a block of code for errors.\n",
    "    The except block lets you handle the error.\n",
    "    The else block lets you execute code when there is no error. The finally block lets you execute code, regardless of the result of the try- and except blocks."
   ]
  }
 ],
 "metadata": {
  "kernelspec": {
   "display_name": "Python 3 (ipykernel)",
   "language": "python",
   "name": "python3"
  },
  "language_info": {
   "codemirror_mode": {
    "name": "ipython",
    "version": 3
   },
   "file_extension": ".py",
   "mimetype": "text/x-python",
   "name": "python",
   "nbconvert_exporter": "python",
   "pygments_lexer": "ipython3",
   "version": "3.9.7"
  }
 },
 "nbformat": 4,
 "nbformat_minor": 5
}
