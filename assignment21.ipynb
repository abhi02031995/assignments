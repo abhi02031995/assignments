{
 "cells": [
  {
   "cell_type": "markdown",
   "id": "d45abeb8",
   "metadata": {},
   "source": [
    "1. Add the current date to the text file today.txt as a string."
   ]
  },
  {
   "cell_type": "code",
   "execution_count": 1,
   "id": "32a48288",
   "metadata": {},
   "outputs": [
    {
     "data": {
      "text/plain": [
       "'2022-07-15'"
      ]
     },
     "execution_count": 1,
     "metadata": {},
     "output_type": "execute_result"
    }
   ],
   "source": [
    "import datetime\n",
    "from datetime import date\n",
    "now = date.today()\n",
    "cur_date = now.isoformat()\n",
    "cur_date"
   ]
  },
  {
   "cell_type": "code",
   "execution_count": 2,
   "id": "0179a79b",
   "metadata": {},
   "outputs": [],
   "source": [
    "with open('today.txt','w') as file:\n",
    "    file.write(cur_date)"
   ]
  },
  {
   "cell_type": "markdown",
   "id": "199fdf40",
   "metadata": {},
   "source": [
    "2.Read the text file today.txt into the string today_string"
   ]
  },
  {
   "cell_type": "code",
   "execution_count": 3,
   "id": "e7eccd0e",
   "metadata": {},
   "outputs": [
    {
     "data": {
      "text/plain": [
       "'2022-07-15'"
      ]
     },
     "execution_count": 3,
     "metadata": {},
     "output_type": "execute_result"
    }
   ],
   "source": [
    "with open('today.txt','r') as file:\n",
    "    today_string = file.read()\n",
    "today_string"
   ]
  },
  {
   "cell_type": "markdown",
   "id": "0587c48c",
   "metadata": {},
   "source": [
    "3.Parse the date from today_string."
   ]
  },
  {
   "cell_type": "code",
   "execution_count": 4,
   "id": "7aad5ec6",
   "metadata": {},
   "outputs": [
    {
     "data": {
      "text/plain": [
       "datetime.datetime(2022, 7, 15, 0, 0)"
      ]
     },
     "execution_count": 4,
     "metadata": {},
     "output_type": "execute_result"
    }
   ],
   "source": [
    "from datetime import datetime\n",
    "format = '%Y-%m-%d'\n",
    "datetime.strptime(today_string,format)"
   ]
  },
  {
   "cell_type": "markdown",
   "id": "32f8c3fd",
   "metadata": {},
   "source": [
    " 4.List the files in your current directory"
   ]
  },
  {
   "cell_type": "code",
   "execution_count": 5,
   "id": "4ca5770e",
   "metadata": {},
   "outputs": [
    {
     "data": {
      "text/plain": [
       "['.ipynb_checkpoints',\n",
       " 'assignment 3.ipynb',\n",
       " 'assignment 4.ipynb',\n",
       " 'assignment 5.ipynb',\n",
       " 'assignment 6.ipynb',\n",
       " 'assignment14.ipynb',\n",
       " 'assignment16.ipynb',\n",
       " 'assignment17.ipynb',\n",
       " 'assignment18.ipynb',\n",
       " 'assignment19.ipynb',\n",
       " 'assignment2.ipynb',\n",
       " 'assignment20.ipynb',\n",
       " 'assignment21.ipynb',\n",
       " 'assignment7.ipynb',\n",
       " 'books.csv',\n",
       " 'books.db',\n",
       " 'test.txt',\n",
       " 'test2',\n",
       " 'today.txt',\n",
       " 'Untitled.ipynb',\n",
       " 'Untitled1.ipynb',\n",
       " 'zoo.py',\n",
       " '__pycache__']"
      ]
     },
     "execution_count": 5,
     "metadata": {},
     "output_type": "execute_result"
    }
   ],
   "source": [
    "import os\n",
    "os.listdir('.')"
   ]
  },
  {
   "cell_type": "markdown",
   "id": "ce9b2023",
   "metadata": {},
   "source": [
    "5.Create a date object of your day of birth"
   ]
  },
  {
   "cell_type": "code",
   "execution_count": 8,
   "id": "ff9b506c",
   "metadata": {},
   "outputs": [
    {
     "data": {
      "text/plain": [
       "datetime.date(1995, 3, 2)"
      ]
     },
     "execution_count": 8,
     "metadata": {},
     "output_type": "execute_result"
    }
   ],
   "source": [
    "my_dob = date(1995,3,2)\n",
    "my_dob"
   ]
  },
  {
   "cell_type": "markdown",
   "id": "de763635",
   "metadata": {},
   "source": [
    "6.What day of the week was your day of birth?"
   ]
  },
  {
   "cell_type": "code",
   "execution_count": 9,
   "id": "f9c3678d",
   "metadata": {},
   "outputs": [
    {
     "data": {
      "text/plain": [
       "3"
      ]
     },
     "execution_count": 9,
     "metadata": {},
     "output_type": "execute_result"
    }
   ],
   "source": [
    "my_dob.weekday()"
   ]
  },
  {
   "cell_type": "code",
   "execution_count": 10,
   "id": "75869f42",
   "metadata": {},
   "outputs": [
    {
     "name": "stdout",
     "output_type": "stream",
     "text": [
      "Object `old` not found.\n"
     ]
    }
   ],
   "source": [
    "7.When will you be (or when were you) 10,000 days old?"
   ]
  },
  {
   "cell_type": "markdown",
   "id": "ea2825be",
   "metadata": {},
   "source": [
    "7.When will you be (or when were you) 10,000 days old"
   ]
  },
  {
   "cell_type": "code",
   "execution_count": 11,
   "id": "14104ef1",
   "metadata": {},
   "outputs": [
    {
     "data": {
      "text/plain": [
       "datetime.date(2022, 7, 18)"
      ]
     },
     "execution_count": 11,
     "metadata": {},
     "output_type": "execute_result"
    }
   ],
   "source": [
    "from datetime import timedelta\n",
    "day10000 = my_dob + timedelta(days=10000)\n",
    "day10000"
   ]
  },
  {
   "cell_type": "code",
   "execution_count": null,
   "id": "1ebeb932",
   "metadata": {},
   "outputs": [],
   "source": []
  }
 ],
 "metadata": {
  "kernelspec": {
   "display_name": "Python 3 (ipykernel)",
   "language": "python",
   "name": "python3"
  },
  "language_info": {
   "codemirror_mode": {
    "name": "ipython",
    "version": 3
   },
   "file_extension": ".py",
   "mimetype": "text/x-python",
   "name": "python",
   "nbconvert_exporter": "python",
   "pygments_lexer": "ipython3",
   "version": "3.9.7"
  },
  "varInspector": {
   "cols": {
    "lenName": 16,
    "lenType": 16,
    "lenVar": 40
   },
   "kernels_config": {
    "python": {
     "delete_cmd_postfix": "",
     "delete_cmd_prefix": "del ",
     "library": "var_list.py",
     "varRefreshCmd": "print(var_dic_list())"
    },
    "r": {
     "delete_cmd_postfix": ") ",
     "delete_cmd_prefix": "rm(",
     "library": "var_list.r",
     "varRefreshCmd": "cat(var_dic_list()) "
    }
   },
   "types_to_exclude": [
    "module",
    "function",
    "builtin_function_or_method",
    "instance",
    "_Feature"
   ],
   "window_display": false
  }
 },
 "nbformat": 4,
 "nbformat_minor": 5
}
