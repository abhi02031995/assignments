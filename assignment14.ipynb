{
 "cells": [
  {
   "cell_type": "markdown",
   "id": "924ca974",
   "metadata": {},
   "source": [
    "1. What does RGBA stand for?"
   ]
  },
  {
   "cell_type": "markdown",
   "id": "791c0043",
   "metadata": {},
   "source": [
    "1.RGBA stands for red, green, blue, and alpha (transparency) in the color\n",
    "2.An RGBA value is a tuple of 4 integers, each ranging from 0 to 255. The four integers correspond to the amount of red, green, blue, and alpha (transparency) in the color"
   ]
  },
  {
   "cell_type": "markdown",
   "id": "1c0442d4",
   "metadata": {},
   "source": [
    "2.From the Pillow module, how do you get the RGBA value of any images ?"
   ]
  },
  {
   "cell_type": "code",
   "execution_count": 1,
   "id": "95797dc5",
   "metadata": {},
   "outputs": [
    {
     "data": {
      "text/plain": [
       "(255, 0, 0, 255)"
      ]
     },
     "execution_count": 1,
     "metadata": {},
     "output_type": "execute_result"
    }
   ],
   "source": [
    "from PIL import ImageColor\n",
    "ImageColor.getcolor('green', 'RGBA')\n",
    "ImageColor.getcolor('red', 'RGBA')"
   ]
  },
  {
   "cell_type": "markdown",
   "id": "7dcb88f2",
   "metadata": {},
   "source": [
    "3.What is a box tuple, and how does it work?"
   ]
  },
  {
   "cell_type": "markdown",
   "id": "51f17c2e",
   "metadata": {},
   "source": [
    "Ans. A box tuple is a tuple value of four integers: the left edge x-coordinate, the top edge y-coordinate, the width, and the height, respectively"
   ]
  },
  {
   "cell_type": "markdown",
   "id": "97c70350",
   "metadata": {},
   "source": [
    "4.What method would you call to get Image object for a 100×100 image, excluding the lower-left quarter of it?"
   ]
  },
  {
   "cell_type": "markdown",
   "id": "e51cbd50",
   "metadata": {},
   "source": [
    "Ans. ImageObject.crop((0, 50, 50, 50))"
   ]
  },
  {
   "cell_type": "markdown",
   "id": "f6c61fe2",
   "metadata": {},
   "source": [
    "6.After making changes to an Image object, how could you save it as an image file?"
   ]
  },
  {
   "cell_type": "markdown",
   "id": "2df27441",
   "metadata": {},
   "source": [
    "Ans. By Calling the imageObj.save('new_filename.png') method of the Image object"
   ]
  },
  {
   "cell_type": "markdown",
   "id": "0944d349",
   "metadata": {},
   "source": [
    "7.What module contains Pillow’s shape-drawing code?"
   ]
  },
  {
   "cell_type": "markdown",
   "id": "618e1b8a",
   "metadata": {},
   "source": [
    "Ans. The ImageDraw module contains code to draw on images"
   ]
  },
  {
   "cell_type": "markdown",
   "id": "7dd29542",
   "metadata": {},
   "source": [
    "8.Image objects do not have drawing methods. What kind of object does? How do you get this kind of object?"
   ]
  },
  {
   "cell_type": "markdown",
   "id": "138d660a",
   "metadata": {},
   "source": [
    "Ans. ImageDraw objects have shape-drawing methods such as point(), line(), or rectangle(). They are returned by passing the Image object to the ImageDraw.Draw() function"
   ]
  }
 ],
 "metadata": {
  "kernelspec": {
   "display_name": "Python 3 (ipykernel)",
   "language": "python",
   "name": "python3"
  },
  "language_info": {
   "codemirror_mode": {
    "name": "ipython",
    "version": 3
   },
   "file_extension": ".py",
   "mimetype": "text/x-python",
   "name": "python",
   "nbconvert_exporter": "python",
   "pygments_lexer": "ipython3",
   "version": "3.9.7"
  },
  "varInspector": {
   "cols": {
    "lenName": 16,
    "lenType": 16,
    "lenVar": 40
   },
   "kernels_config": {
    "python": {
     "delete_cmd_postfix": "",
     "delete_cmd_prefix": "del ",
     "library": "var_list.py",
     "varRefreshCmd": "print(var_dic_list())"
    },
    "r": {
     "delete_cmd_postfix": ") ",
     "delete_cmd_prefix": "rm(",
     "library": "var_list.r",
     "varRefreshCmd": "cat(var_dic_list()) "
    }
   },
   "types_to_exclude": [
    "module",
    "function",
    "builtin_function_or_method",
    "instance",
    "_Feature"
   ],
   "window_display": false
  }
 },
 "nbformat": 4,
 "nbformat_minor": 5
}
